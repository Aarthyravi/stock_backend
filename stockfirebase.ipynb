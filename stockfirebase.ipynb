{
 "cells": [
  {
   "cell_type": "code",
   "execution_count": 4,
   "metadata": {},
   "outputs": [
    {
     "name": "stdout",
     "output_type": "stream",
     "text": [
      "Name: Mary Anning\n",
      "Since: 1799\n"
     ]
    }
   ],
   "source": [
    "import firebase_admin\n",
    "from firebase_admin import credentials\n",
    "from firebase_admin import db\n",
    "\n",
    "cred = credentials.Certificate('C:\\\\Users\\Ravi\\Downloads\\stock_backend\\keys\\stock-backend.json')\n",
    "firebase_admin.initialize_app(cred, {\n",
    "    'databaseURL' : 'https://stock-backend.firebaseio.com'\n",
    "})\n",
    "\n",
    "root = db.reference()\n",
    "# Add a new user under /users.\n",
    "new_user = root.child('users').push({\n",
    "    'name' : 'Mary Anning', \n",
    "    'since' : 1700\n",
    "})\n",
    "\n",
    "# Update a child attribute of the new user.\n",
    "new_user.update({'since' : 1799})\n",
    "\n",
    "# Obtain a new reference to the user, and retrieve child data.\n",
    "# Result will be made available as a Python dict.\n",
    "mary = db.reference('users/{0}'.format(new_user.key)).get()\n",
    "print ('Name:', mary['name'])\n",
    "print ('Since:', mary['since'])\n",
    " \n"
   ]
  },
  {
   "cell_type": "code",
   "execution_count": null,
   "metadata": {},
   "outputs": [],
   "source": []
  }
 ],
 "metadata": {
  "kernelspec": {
   "display_name": "Python 3",
   "language": "python",
   "name": "python3"
  },
  "language_info": {
   "codemirror_mode": {
    "name": "ipython",
    "version": 3
   },
   "file_extension": ".py",
   "mimetype": "text/x-python",
   "name": "python",
   "nbconvert_exporter": "python",
   "pygments_lexer": "ipython3",
   "version": "3.6.3"
  }
 },
 "nbformat": 4,
 "nbformat_minor": 2
}
