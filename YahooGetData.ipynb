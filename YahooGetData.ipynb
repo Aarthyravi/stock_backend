{
 "cells": [
  {
   "cell_type": "code",
   "execution_count": 10,
   "metadata": {},
   "outputs": [],
   "source": [
    "import datetime\n",
    "from datetime import timedelta\n",
    "import pandas as pd\n",
    "from pandas import Series, DataFrame\n",
    "import pandas_datareader.data as web\n",
    "\n"
   ]
  },
  {
   "cell_type": "code",
   "execution_count": 11,
   "metadata": {},
   "outputs": [
    {
     "name": "stdout",
     "output_type": "stream",
     "text": [
      "Open :  Date\n",
      "2018-01-09    222.220001\n",
      "Name: Open, dtype: float64\n",
      "High :  Date\n",
      "2018-01-09    223.820007\n",
      "Name: High, dtype: float64\n",
      "Low :  Date\n",
      "2018-01-09    218.639999\n",
      "Name: Low, dtype: float64\n",
      "Close :  Date\n",
      "2018-01-09    221.940002\n",
      "Name: Close, dtype: float64\n",
      "Adj Close :  Date\n",
      "2018-01-09    221.940002\n",
      "Name: Adj Close, dtype: float64\n",
      "Volume :  Date\n",
      "2018-01-09    11791400\n",
      "Name: Volume, dtype: int64\n"
     ]
    }
   ],
   "source": [
    "def get_symbol_data_today(sym):\n",
    "    now = datetime.datetime.now()\n",
    "    #start=%s/%s/%s\" % (i.day, i.month, i.year)\n",
    "    prev = datetime.datetime.now() - timedelta(days=3)\n",
    "    start=datetime.datetime(prev.year,prev.month,prev.day)\n",
    "    end=datetime.datetime(now.year,now.month,now.day)\n",
    "    f = web.DataReader(sym, 'yahoo', start,end)\n",
    "    #f=f.set_index(['Date'])\n",
    "    #r=web.get_quote_yahoo('AAPL')\n",
    "    return f.tail(1)\n",
    "\n",
    "def update_data_to_db():    \n",
    "    data = get_symbol_data_today(\"NVDA\")\n",
    "    #print(data.keys())\n",
    "    #'Open'\n",
    "    print(\"Open : \", data['Open'])\n",
    "    #'High'\n",
    "    print(\"High : \", data['High'])\n",
    "    #'Low'\n",
    "    print(\"Low : \", data['Low'])\n",
    "    #'Close'\n",
    "    print(\"Close : \", data['Close'])\n",
    "    #'Adj Close'\n",
    "    print(\"Adj Close : \", data['Adj Close'])\n",
    "    #'Volume\n",
    "    print(\"Volume : \", data['Volume'])\n",
    "    \n",
    "    \n",
    "\n",
    "update_data_to_db()\n",
    "    "
   ]
  },
  {
   "cell_type": "code",
   "execution_count": null,
   "metadata": {
    "collapsed": true
   },
   "outputs": [],
   "source": []
  },
  {
   "cell_type": "code",
   "execution_count": null,
   "metadata": {
    "collapsed": true
   },
   "outputs": [],
   "source": []
  },
  {
   "cell_type": "code",
   "execution_count": null,
   "metadata": {
    "collapsed": true
   },
   "outputs": [],
   "source": []
  }
 ],
 "metadata": {
  "kernelspec": {
   "display_name": "Python 3",
   "language": "python",
   "name": "python3"
  },
  "language_info": {
   "codemirror_mode": {
    "name": "ipython",
    "version": 3
   },
   "file_extension": ".py",
   "mimetype": "text/x-python",
   "name": "python",
   "nbconvert_exporter": "python",
   "pygments_lexer": "ipython3",
   "version": "3.6.2"
  }
 },
 "nbformat": 4,
 "nbformat_minor": 2
}
